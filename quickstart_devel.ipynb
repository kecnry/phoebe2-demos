{
 "cells": [
  {
   "cell_type": "markdown",
   "metadata": {},
   "source": [
    "# PHOEBE Development Quickstart"
   ]
  },
  {
   "cell_type": "markdown",
   "metadata": {},
   "source": [
    "**HOW TO SAVE A LOCAL COPY FROM BINDER**: you should be able to make any changes directly from the original link and then download a notebook or python file to your local machine via File > Download As.\n",
    "\n",
    "**HOW TO SAVE A LOCAL COPY FROM GOOGLE COLAB**: to have a copy you can make changes to and save locally, click the \"copy to drive\" icon in the toolbar.  You can then rename the individual notebook by clicking on the title in the top left.  Changes will be saved in your own google drive so that you can access your notebook later.\n",
    "\n",
    "**HOW TO RUN A JUPYTER NOTEBOOK**: You can click on a cell and then shift+Enter to run the cell and automatically select the next cell.  Alt+Enter will run a cell and create a new cell below it.  Ctrl+Enter will run a cell but keep it selected.  To restart from scratch, restart the kernel/runtime.  But note that every time you reload this notebook or restart the kernel in colab/binder, you will have to reinstall PHOEBE (which takes a few minutes).  Instead, you can clear all cells and just re-build the bundle whenever possible."
   ]
  },
  {
   "cell_type": "markdown",
   "metadata": {},
   "source": [
    "## Install PHOEBE\n",
    "\n",
    "The following lines will install the latest *development* version of PHOEBE onto the machine (either your local machine, google colab, or binder).  To use the latest released version, comment out the first set of install commands and uncomment `pip install phoebe`.  If not using the 'legacy' backend, you can comment out the PHOEBE 1 wrappers block of commands. \n",
    "\n",
    "If installing the development version, here are links to the [PHOEBE development docs](http://phoebe-project.org/docs/devel) and the [PHOEBE development API docs](http://phoebe-project.org/docs/devel/api).\n",
    "\n",
    "And if using from pip, here are links to the [PHOEBE latest release docs](http://phoebe-project.org/docs/latest) and the [PHOEBE latest release API docs](http://phoebe-project.org/docs/latest/api)."
   ]
  },
  {
   "cell_type": "code",
   "execution_count": null,
   "metadata": {},
   "outputs": [],
   "source": [
    "# Install PHOEBE 2 development\n",
    "!git clone --depth=1 --single-branch -b development git://github.com/phoebe-project/phoebe2.git\n",
    "!cd phoebe2 && python3 setup.py sdist && pip install dist/phoebe-devel.tar.gz\n",
    "\n",
    "# Install PHOEBE 2 latest release (comment out above and uncomment this to use latest release instead)\n",
    "#!pip install phoebe\n",
    "\n",
    "# Install PHOEBE 1 wrappers\n",
    "!git clone --depth=1 --single-branch -b phoebe_legacy git://github.com/phoebe-project/phoebe1.git\n",
    "!cd phoebe1 && python3 setup_static.py build && python3 setup_static.py install --user\n",
    "\n",
    "# Make sure we can import the installed packages\n",
    "import sys\n",
    "sys.path.append('/root/.local/lib/python3.6/site-packages/') # for colab\n",
    "sys.path.append('/home/jovyan/.local/lib/python3.7/site-packages/') # for binder"
   ]
  },
  {
   "cell_type": "markdown",
   "metadata": {},
   "source": [
    "## Jupyter Settings\n",
    "\n",
    "Depending on the system, the following line may or may not be necessary to display plots in the notebook in-line."
   ]
  },
  {
   "cell_type": "code",
   "execution_count": null,
   "metadata": {},
   "outputs": [],
   "source": [
    "%matplotlib inline"
   ]
  },
  {
   "cell_type": "markdown",
   "metadata": {},
   "source": [
    "## Import PHOEBE\n",
    "\n",
    "Now import the phoebe package.  You may also want to import numpy, matplotlib, or astropy... but we'll leave that all up to you.  \n",
    "\n",
    "Note: its safe to ignore any warnings related to matplotlib.use('Agg')."
   ]
  },
  {
   "cell_type": "code",
   "execution_count": null,
   "metadata": {},
   "outputs": [],
   "source": [
    "import phoebe"
   ]
  },
  {
   "cell_type": "markdown",
   "metadata": {},
   "source": [
    "## Create Bundle\n",
    "\n",
    "and create a new default binary \"bundle\"."
   ]
  },
  {
   "cell_type": "code",
   "execution_count": null,
   "metadata": {},
   "outputs": [],
   "source": [
    "b = phoebe.default_binary()"
   ]
  }
 ],
 "metadata": {
  "kernelspec": {
   "display_name": "Python 2",
   "language": "python",
   "name": "python2"
  },
  "language_info": {
   "codemirror_mode": {
    "name": "ipython",
    "version": 2
   },
   "file_extension": ".py",
   "mimetype": "text/x-python",
   "name": "python",
   "nbconvert_exporter": "python",
   "pygments_lexer": "ipython2",
   "version": "2.7.16"
  }
 },
 "nbformat": 4,
 "nbformat_minor": 2
}
