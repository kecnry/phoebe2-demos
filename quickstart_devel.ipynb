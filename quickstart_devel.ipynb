{
 "cells": [
  {
   "cell_type": "markdown",
   "metadata": {},
   "source": [
    "# PHOEBE Development Quickstart"
   ]
  },
  {
   "cell_type": "markdown",
   "metadata": {},
   "source": [
    "**HOW TO RUN THIS FILE**: if you're running this in a Jupyter notebook or Google Colab session, you can click on a cell and then shift+Enter to run the cell and automatically select the next cell.  Alt+Enter will run a cell and create a new cell below it.  Ctrl+Enter will run a cell but keep it selected.  To restart from scratch, restart the kernel/runtime."
   ]
  },
  {
   "cell_type": "markdown",
   "metadata": {},
   "source": [
    "The following lines will install the latest *development* version of PHOEBE into Google Colab.  This may take a few minutes and will need to be run everytime you restart the session (so you may just want to go to Edit > \"clear all outputs\" and restart with a new bundle whenever possible).\n",
    "\n",
    "Here are links to the [PHOEBE development docs](http://phoebe-project.org/docs/devel) and the [PHOEBE development API docs](http://phoebe-project.org/docs/devel/api)."
   ]
  },
  {
   "cell_type": "code",
   "execution_count": null,
   "metadata": {},
   "outputs": [],
   "source": [
    "# Install PHOEBE 2 development\n",
    "!git clone --depth=1 --single-branch -b development git://github.com/phoebe-project/phoebe2.git\n",
    "!cd phoebe2 && python3 setup.py sdist && pip install dist/phoebe-devel.tar.gz\n",
    "\n",
    "# Install PHOEBE 2 latest release (comment out above and uncomment this to use latest release instead)\n",
    "#!pip install phoebe\n",
    "\n",
    "# Install PHOEBE 1 wrappers\n",
    "!git clone --depth=1 --single-branch -b phoebe_legacy git://github.com/phoebe-project/phoebe1.git\n",
    "!cd phoebe1 && python3 setup_static.py build && python3 setup_static.py install --user\n",
    "\n",
    "# Make sure we can import the installed packages\n",
    "import sys\n",
    "sys.path.append('/root/.local/lib/python3.6/site-packages/')"
   ]
  },
  {
   "cell_type": "markdown",
   "metadata": {},
   "source": [
    "Now import the phoebe package.  You may also want to import numpy, matplotlib, or astropy... but we'll leave that all up to you.  \n",
    "\n",
    "Note: its safe to ignore any warnings related to matplotlib.use('Agg')."
   ]
  },
  {
   "cell_type": "code",
   "execution_count": null,
   "metadata": {},
   "outputs": [],
   "source": [
    "import phoebe"
   ]
  },
  {
   "cell_type": "markdown",
   "metadata": {},
   "source": [
    "and create a new default binary \"bundle\"."
   ]
  },
  {
   "cell_type": "code",
   "execution_count": null,
   "metadata": {},
   "outputs": [],
   "source": [
    "b = phoebe.default_binary()"
   ]
  }
 ],
 "metadata": {
  "kernelspec": {
   "display_name": "Python 2",
   "language": "python",
   "name": "python2"
  },
  "language_info": {
   "codemirror_mode": {
    "name": "ipython",
    "version": 2
   },
   "file_extension": ".py",
   "mimetype": "text/x-python",
   "name": "python",
   "nbconvert_exporter": "python",
   "pygments_lexer": "ipython2",
   "version": "2.7.16"
  }
 },
 "nbformat": 4,
 "nbformat_minor": 2
}
